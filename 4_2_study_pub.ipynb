{
 "cells": [
  {
   "cell_type": "markdown",
   "id": "86c5b273-98c6-4ed2-8c8b-eb0d7fa930e9",
   "metadata": {},
   "source": [
    "# 잘 돌아오셨습니다\n",
    "## 이번엔 발행해보겠습니다"
   ]
  },
  {
   "cell_type": "markdown",
   "id": "08713f04-66e3-4e93-b638-d202ea6c0b13",
   "metadata": {},
   "source": [
    "## 3. 발행"
   ]
  },
  {
   "cell_type": "markdown",
   "id": "de023f16-c44b-49d0-83fb-ce8d39b743a8",
   "metadata": {},
   "source": [
    "### 먼저 라이브러리를 불러옵니다"
   ]
  },
  {
   "cell_type": "code",
   "execution_count": null,
   "id": "5d3526cb-22d9-422c-a877-bebe95dd9c05",
   "metadata": {},
   "outputs": [],
   "source": [
    "import rclpy as rp\n",
    "from geometry_msgs.msg import Twist\n",
    "\n",
    "rp.init()\n",
    "test_node = rp.create_node('pub_test')"
   ]
  },
  {
   "cell_type": "code",
   "execution_count": null,
   "id": "5705849d-d8e2-4bfa-93a2-36941518b4c1",
   "metadata": {},
   "outputs": [],
   "source": [
    "msg = Twist()\n",
    "print (msg)"
   ]
  },
  {
   "cell_type": "markdown",
   "id": "ca726757-55d6-4415-9f24-abe65f164323",
   "metadata": {},
   "source": [
    "**Twist는 우리가 단축해서 표현한 토픽데이터타입입니다.\\\n",
    "뒤에서 배울 service에서는 TeleportAbsolute.Request()로 뒤에 Request라는 함수를 붙여서\\\n",
    "'정의'를 입력하지만 이 토픽에서는 그냥 Twist()에 정의를 입력하는 것으로 보시면 됩니다\\\n",
    "정의의 형태는 xyz 속도와 각속도입니다**"
   ]
  },
  {
   "cell_type": "code",
   "execution_count": null,
   "id": "f00d8514-8f62-4650-a0a5-6b4ca7c05f74",
   "metadata": {},
   "outputs": [],
   "source": [
    "pub = test_node.create_publisher(Twist, '/turtle1/cmd_vel',10)"
   ]
  },
  {
   "cell_type": "markdown",
   "id": "0a87def9-60a1-4d68-b3e8-2202362d2927",
   "metadata": {},
   "source": [
    "**test_node.create_publisher(토픽데이터타입,'토픽이름',Qos)\\\n",
    "토픽데이터타입은 위에서 단축한 Twist**"
   ]
  },
  {
   "cell_type": "markdown",
   "id": "a767e14f-a286-469c-8b91-2d23e60b8b7e",
   "metadata": {},
   "source": [
    "### 토픽을 한번 발행해봅시다"
   ]
  },
  {
   "cell_type": "code",
   "execution_count": null,
   "id": "8ec658a1-d1a1-4f05-9a75-7f9b5871c601",
   "metadata": {},
   "outputs": [],
   "source": [
    "pub.publish(msg)\n",
    "print(msg)"
   ]
  },
  {
   "cell_type": "markdown",
   "id": "3370472d-cef1-4d0e-87a7-897292b44558",
   "metadata": {},
   "source": [
    "**pub에서 publish함수를 이용해서 토픽을 발행합니다\\\n",
    "아무일도 일어나지 않습니다 \\\n",
    "우리가 속도를 바꿔주지 않아서 디폴트값인 0이거든요**"
   ]
  },
  {
   "cell_type": "code",
   "execution_count": null,
   "id": "87ef6ff1-22dc-4f43-8095-81326bf74e70",
   "metadata": {},
   "outputs": [],
   "source": [
    "msg.linear.y = 3.0\n",
    "msg.linear.x = 3.0\n",
    "msg.linear.z = 0.0\n",
    "msg.angular.x = 0.\n",
    "msg.angular.y = 0.0\n",
    "msg.angular.z = 0.0"
   ]
  },
  {
   "cell_type": "markdown",
   "id": "69b8b37a-0ce8-40b9-8440-2b41b24c37f4",
   "metadata": {},
   "source": [
    "**각속도와 속도를 지정해줍니다**"
   ]
  },
  {
   "cell_type": "code",
   "execution_count": null,
   "id": "929629da-1d1c-4a37-acbc-e47cf5a03e4f",
   "metadata": {},
   "outputs": [],
   "source": [
    "pub.publish(msg)\n",
    "print(msg)"
   ]
  },
  {
   "cell_type": "markdown",
   "id": "71d89ccc-0f66-4ac5-9d4d-c492bfa72035",
   "metadata": {},
   "source": [
    "**이제 움직이죠?**"
   ]
  },
  {
   "cell_type": "markdown",
   "id": "c03d37fd-359e-4940-9320-8ba02704f68f",
   "metadata": {},
   "source": [
    "### 주기마다 토픽 발행하기"
   ]
  },
  {
   "cell_type": "code",
   "execution_count": null,
   "id": "e13df5bc-a193-4797-9e7b-f004d560ba63",
   "metadata": {},
   "outputs": [],
   "source": [
    "cnt = 0 \n",
    "def timer_callback():\n",
    "    global cnt\n",
    "    global msg\n",
    "    cnt +=1\n",
    "    msg.linear.y = -1*msg.linear.y\n",
    "    msg.linear.x = -1*msg.linear.x\n",
    "    print(cnt,msg)\n",
    "    pub.publish(msg)\n",
    "\n",
    "    if cnt >3:\n",
    "        raise Exception(\"stop\")"
   ]
  },
  {
   "cell_type": "code",
   "execution_count": null,
   "id": "f09fbfeb-9b87-44df-94f4-8f57d03483c3",
   "metadata": {},
   "outputs": [],
   "source": [
    "print(msg)"
   ]
  },
  {
   "cell_type": "code",
   "execution_count": null,
   "id": "e9ce7123-5223-492e-9d2c-61f2554559b1",
   "metadata": {},
   "outputs": [],
   "source": [
    "timer = test_node.create_timer(0.1,timer_callback)\n",
    "rp.spin(test_node)\n",
    "print(msg)"
   ]
  },
  {
   "cell_type": "markdown",
   "id": "1031dd8a-3f4b-4fc5-95d1-4e331fb0eb22",
   "metadata": {},
   "source": [
    "**0.1 mean u will call func every 0.1 second\\\n",
    "Also this is not normal way \\\n",
    "error will occur**"
   ]
  },
  {
   "cell_type": "code",
   "execution_count": null,
   "id": "6482bcb6-8de7-464a-98fa-4714e0a30da6",
   "metadata": {},
   "outputs": [],
   "source": [
    "test_node.destroy_node()"
   ]
  },
  {
   "cell_type": "markdown",
   "id": "b373512b-5448-4de3-b8eb-d02b9cd0fd53",
   "metadata": {},
   "source": [
    "**This will destroy ur node and prevent further interference**"
   ]
  }
 ],
 "metadata": {
  "kernelspec": {
   "display_name": "Python 3 (ipykernel)",
   "language": "python",
   "name": "python3"
  },
  "language_info": {
   "codemirror_mode": {
    "name": "ipython",
    "version": 3
   },
   "file_extension": ".py",
   "mimetype": "text/x-python",
   "name": "python",
   "nbconvert_exporter": "python",
   "pygments_lexer": "ipython3",
   "version": "3.8.10"
  }
 },
 "nbformat": 4,
 "nbformat_minor": 5
}

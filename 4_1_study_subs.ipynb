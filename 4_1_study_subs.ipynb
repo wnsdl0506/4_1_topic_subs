{
 "cells": [
  {
   "cell_type": "markdown",
   "id": "0a6e0ab4-7301-4df5-b67c-576f38b6c80a",
   "metadata": {},
   "source": [
    "# 주피터에 오신것을 환영합니다!\n",
    "## chap 4 에선 topic에 대한 기본적인 개념을 다룹니다!"
   ]
  },
  {
   "cell_type": "markdown",
   "id": "c878a8db-2ee7-45ae-8061-478405010a96",
   "metadata": {},
   "source": [
    "## 1. 기본개념"
   ]
  },
  {
   "cell_type": "code",
   "execution_count": null,
   "id": "dcf9da0f-728e-4378-8546-926b24406301",
   "metadata": {},
   "outputs": [],
   "source": [
    "print(\"hello world\")"
   ]
  },
  {
   "cell_type": "markdown",
   "id": "4ccf71a7-c830-47cb-9b1c-f78744f42314",
   "metadata": {},
   "source": [
    "**shift + enter to run code!**"
   ]
  },
  {
   "cell_type": "markdown",
   "id": "f9772253-62d0-48c3-8c3a-febc37dbd63f",
   "metadata": {},
   "source": [
    "## 2. 구독하기"
   ]
  },
  {
   "cell_type": "markdown",
   "id": "0079693c-9988-4a40-ad34-1f0343c8a2c7",
   "metadata": {},
   "source": [
    "### 먼저 라이브러리를 도입하겠습니다!"
   ]
  },
  {
   "cell_type": "code",
   "execution_count": 1,
   "id": "31a0574c-f14e-40e9-9e40-295d16373019",
   "metadata": {},
   "outputs": [],
   "source": [
    "import rclpy as rp\n",
    "from turtlesim.msg import Pose"
   ]
  },
  {
   "cell_type": "markdown",
   "id": "464be413-1367-4eb5-8ba2-efa3594f144f",
   "metadata": {},
   "source": [
    "**(*rclpy*) 는 Ros Client Library for Python  \\\n",
    "이걸 단축해서 (*rp*)라고 부를 수 있도록  (*as*)를 사용합니다**"
   ]
  },
  {
   "cell_type": "markdown",
   "id": "c4fcaf59-1f44-4735-81ec-ff0ed5576992",
   "metadata": {},
   "source": [
    "**turtlesim.msg.Pose 는 토픽의 데이터 타입입니다\\\n",
    "Pose를 떼어내서 import하면 앞에 두 단어는 안써도 됩니다. 너무 편하죠**"
   ]
  },
  {
   "cell_type": "code",
   "execution_count": 2,
   "id": "f2276ea2-8d4f-4af8-94f4-e1d9d70f0363",
   "metadata": {},
   "outputs": [],
   "source": [
    "rp.init()"
   ]
  },
  {
   "cell_type": "markdown",
   "id": "9e62b021-a09c-46a3-a10d-18bdcec15c2b",
   "metadata": {},
   "source": [
    "**rclpy를 초기화합니다**"
   ]
  },
  {
   "cell_type": "code",
   "execution_count": 3,
   "id": "c3f985b8-1dcb-4ed7-8057-8fc4ff3b71e8",
   "metadata": {},
   "outputs": [],
   "source": [
    "test_node = rp.create_node('sub_test')"
   ]
  },
  {
   "cell_type": "markdown",
   "id": "af8ee95c-b20b-4b3e-888b-9deb867da2f7",
   "metadata": {},
   "source": [
    "**sub_test 라는 노드를 만듭니다. 터미널에서 rqt_graph하면 해당 노드를 볼수 있어요\\\n",
    "test_node라는 변수이름은 마음대로 수정해도 상관없으나(적어도 이 챕터에서는) \\\n",
    "책 저자는 test_node라는 이름이 파이선이(instantiating)하도록 도와준다고 합니다**"
   ]
  },
  {
   "cell_type": "markdown",
   "id": "a2444f30-ffe2-4640-b45f-1b0ddea31f8b",
   "metadata": {},
   "source": [
    "### callback함수를 만들고 한번 구독하겠습니다"
   ]
  },
  {
   "cell_type": "code",
   "execution_count": 4,
   "id": "f3c2293a-cf74-4004-9f6e-20831db96db3",
   "metadata": {},
   "outputs": [],
   "source": [
    "def callback(data):\n",
    "    print(\"X: \",data.x,\"/Y: \",data.y,\"/Theta: \",data.theta)"
   ]
  },
  {
   "cell_type": "code",
   "execution_count": 5,
   "id": "3158bae7-bf7d-41a9-ab02-9d5d7043414f",
   "metadata": {},
   "outputs": [
    {
     "data": {
      "text/plain": [
       "<rclpy.subscription.Subscription at 0x7f8bbfcf4be0>"
      ]
     },
     "execution_count": 5,
     "metadata": {},
     "output_type": "execute_result"
    }
   ],
   "source": [
    "test_node.create_subscription(Pose, '/turtle1/pose',callback,10)"
   ]
  },
  {
   "cell_type": "markdown",
   "id": "bc11facb-8d62-4f31-a27c-993f223b6516",
   "metadata": {},
   "source": [
    "**노드이름.create_subscription(토픽데이터타입 , '토픽이름' , callback, Qos)**"
   ]
  },
  {
   "cell_type": "markdown",
   "id": "f457230d-7a4f-4818-8109-3a741aa21a51",
   "metadata": {},
   "source": [
    "**원래 토픽데이터타입은 turtlesim/msg/pose 입니다. 하지만 맨위에서 Pose로 import했죠?**"
   ]
  },
  {
   "cell_type": "code",
   "execution_count": 6,
   "id": "cc82116b-9416-425c-88f1-cdbe6e2e2498",
   "metadata": {},
   "outputs": [
    {
     "name": "stdout",
     "output_type": "stream",
     "text": [
      "X:  5.454999923706055 /Y:  5.454999923706055 /Theta:  0.0\n"
     ]
    }
   ],
   "source": [
    "rp.spin_once(test_node)"
   ]
  },
  {
   "cell_type": "code",
   "execution_count": null,
   "id": "9eaadc8b-9b89-4f37-8097-8f2b03cc19dd",
   "metadata": {},
   "outputs": [],
   "source": [
    "rp.spin(test_node)"
   ]
  },
  {
   "cell_type": "markdown",
   "id": "28691300-92ba-4eb1-859e-bbabc8468e49",
   "metadata": {},
   "source": [
    "**spin_once는 한번, spin은 무한정 구독을 받아옵니다 \\\n",
    "if u want stop, kernal-restart and clear ouput \\\n",
    "but in this case u need to re-run all code from start**"
   ]
  },
  {
   "cell_type": "markdown",
   "id": "683968ca-15a1-424e-ba76-c639eabf4b69",
   "metadata": {},
   "source": [
    "**강제적인 방법으로 토픽을 몇번만 구독하는 법도 있습니다 \\\n",
    "First, restart and clear output**"
   ]
  },
  {
   "cell_type": "markdown",
   "id": "235e0337-29ce-4ce2-8e1f-cdfd553a4600",
   "metadata": {},
   "source": [
    "### This time use below 2 line code instead of upper 4 line code"
   ]
  },
  {
   "cell_type": "code",
   "execution_count": null,
   "id": "dc80ed0a-0510-4812-bb49-6821ef582878",
   "metadata": {},
   "outputs": [],
   "source": [
    "cnt = 0\n",
    "def callback2(data):\n",
    "    global cnt\n",
    "    cnt += 1\n",
    "    print(cnt,\") X: \",data.x,\"/Y: \",data.y,\"/Theta: \",data.theta)\n",
    "    if cnt > 3:\n",
    "        raise Exception(\"last subs\")"
   ]
  },
  {
   "cell_type": "code",
   "execution_count": null,
   "id": "08df3eec-0428-4894-b60c-c7f4e1bd0a85",
   "metadata": {},
   "outputs": [],
   "source": [
    "test_node.create_subscription(Pose, '/turtle1/pose',callback2,10)\n",
    "rp.spin(test_node)"
   ]
  },
  {
   "cell_type": "markdown",
   "id": "146cbd45-8ff0-4863-9d04-79bb555cca74",
   "metadata": {},
   "source": [
    "**정상적인 방법이 아니라서 에러가납니다. 실제론 쓸 일이없는 방식입니다**"
   ]
  },
  {
   "cell_type": "markdown",
   "id": "c9bcda71-2b72-42eb-a4df-97ae3f6e4545",
   "metadata": {},
   "source": [
    "## 3. Publish"
   ]
  },
  {
   "cell_type": "markdown",
   "id": "73d605b6-99fe-4d5f-a1e8-498bf8655eb5",
   "metadata": {},
   "source": [
    "**See next file**"
   ]
  },
  {
   "cell_type": "code",
   "execution_count": null,
   "id": "183975c7-4cbe-4f1b-ace4-1285dc839f0d",
   "metadata": {},
   "outputs": [],
   "source": []
  }
 ],
 "metadata": {
  "kernelspec": {
   "display_name": "Python 3 (ipykernel)",
   "language": "python",
   "name": "python3"
  },
  "language_info": {
   "codemirror_mode": {
    "name": "ipython",
    "version": 3
   },
   "file_extension": ".py",
   "mimetype": "text/x-python",
   "name": "python",
   "nbconvert_exporter": "python",
   "pygments_lexer": "ipython3",
   "version": "3.8.10"
  }
 },
 "nbformat": 4,
 "nbformat_minor": 5
}

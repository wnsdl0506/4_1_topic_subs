{
 "cells": [
  {
   "cell_type": "code",
   "execution_count": null,
   "id": "725d4bca-83be-472b-bbc1-d613474d2c59",
   "metadata": {},
   "outputs": [],
   "source": [
    "import matplotlib.pyplot as plt\n",
    "import numpy as np"
   ]
  },
  {
   "cell_type": "markdown",
   "id": "c675c6ce-f837-42ab-a2af-d2c34b4b6ea5",
   "metadata": {},
   "source": [
    "**다양한 계산을 도와주는 매틀랩 라이브러리 투입!**"
   ]
  },
  {
   "cell_type": "code",
   "execution_count": null,
   "id": "b6dd7c83-8846-4977-afba-5f4e56f91d79",
   "metadata": {},
   "outputs": [],
   "source": [
    "t=np.arange(0, 6, 0.01)\n"
   ]
  },
  {
   "cell_type": "markdown",
   "id": "1b09446b-2ceb-414f-8552-1daebe340769",
   "metadata": {},
   "source": [
    "**t에 0부터 6까지 0.01간격의 숫자를 저장한다**"
   ]
  },
  {
   "cell_type": "code",
   "execution_count": null,
   "id": "e86c7780-2fbd-4b57-8186-3d3b4dab4081",
   "metadata": {},
   "outputs": [],
   "source": [
    "t.shape"
   ]
  },
  {
   "cell_type": "markdown",
   "id": "02535df0-8736-44c3-b7eb-d229db0975ec",
   "metadata": {},
   "source": [
    "**배열의 크기**"
   ]
  },
  {
   "cell_type": "code",
   "execution_count": null,
   "id": "bcd546e6-5d37-412b-8f31-0ca3d0eb2a8d",
   "metadata": {},
   "outputs": [],
   "source": [
    "y=np.sin(np.pi*t)\n",
    "y.shape"
   ]
  },
  {
   "cell_type": "markdown",
   "id": "b1d4f238-a2b5-4fc6-bc98-781e4e677333",
   "metadata": {},
   "source": [
    "**아까만든 t에 pi를 곱해서 sin에 넣어준 값을 y에 저장, 즉 6pi까지 나왔을것이다(3주기)**"
   ]
  },
  {
   "cell_type": "code",
   "execution_count": null,
   "id": "0dfe7dc5-5134-4be0-8af4-f0b1f3929225",
   "metadata": {},
   "outputs": [],
   "source": [
    "plt.figure(figsize=(12,6))\n",
    "plt.plot(t,y)\n",
    "plt.grid()"
   ]
  },
  {
   "cell_type": "markdown",
   "id": "411148bb-2dcd-4628-90f2-98009e0828c7",
   "metadata": {},
   "source": [
    "**그리드는 눈금을 그리고 figure는 그래프 크기를 지정한다. 그 후 plot(t,y)를 하면 \\\n",
    "해당 xy축으로 하는 그래프를 그려준다**"
   ]
  },
  {
   "cell_type": "markdown",
   "id": "d88df307-0b78-4b56-bdc6-1d229e5db9ee",
   "metadata": {},
   "source": [
    "**아래는 진폭A_주기2pi/f_y방향 b이동한 그래프이다**"
   ]
  },
  {
   "cell_type": "code",
   "execution_count": null,
   "id": "0c2b5ddd-f761-438c-aa85-86626b4b699f",
   "metadata": {},
   "outputs": [],
   "source": [
    "def draw_sin(t,A,f,b):\n",
    "    y=A*np.sin(np.pi*f*t)+b\n",
    "    plt.figure(figsize=(12,6))\n",
    "    plt.plot(t,y)\n",
    "    plt.grid()\n",
    "    plt.show()\n",
    "\n",
    "t=np.arange(0, 3, 0.01)\n",
    "draw_sin(t,1,2,0)"
   ]
  },
  {
   "cell_type": "markdown",
   "id": "b57ce003-3d06-4281-a548-211fa3281533",
   "metadata": {},
   "source": [
    "## 클래스 선언"
   ]
  },
  {
   "cell_type": "markdown",
   "id": "f39640f3-e190-4f21-bd64-a3a1e4377d9d",
   "metadata": {},
   "source": [
    "**위와 같은 코드는 매번 실행해야하는 귀찮음과, t가바뀌면 그래프 눈금이\\\n",
    "바꾸는 치명적 단점이 있다. 즉 한번에 실행하는 클래스를 만들어주자**"
   ]
  },
  {
   "cell_type": "code",
   "execution_count": null,
   "id": "d9380731-28a4-4c78-8565-cef5ff8beadc",
   "metadata": {},
   "outputs": [],
   "source": [
    "class DrawSin():#클래스 선언\n",
    "    def __init__(self,amp,freq,bias,end_time):#던더(언더바두개)init안에는 꼭실행되는 코드작성\n",
    "        self.amp = amp\n",
    "        self.freq = freq\n",
    "        self.bias = bias\n",
    "        self.end_time = end_time\n",
    "    def calc_sin(self):\n",
    "        self.t = np.arange(0,self.end_time,0.01)\n",
    "        #이건 아까도 했던 t행렬을 만드는 과정. 이번엔 endtime도 변수로 받았다\n",
    "        return self.amp * np.sin(2*np.pi*self.freq*self.t)+self.bias\n",
    "        #받아준 모든 값들로 sin식을 반환한다\n",
    "    def draw_sin(self):#받아준 sin식으로 그래프를 그린다\n",
    "        y=self.calc_sin()\n",
    "        plt.figure(figsize=(12,6))\n",
    "        plt.plot(self.t,y)\n",
    "        plt.grid()\n",
    "        plt.show()"
   ]
  },
  {
   "cell_type": "markdown",
   "id": "bebbdb3f-01e9-47ce-a25d-ed2d2313e1f6",
   "metadata": {},
   "source": [
    "**아래처럼 ds로 DrawSin을 받아주는 것을 클래스의 객체화(instantiation)라고 한다**"
   ]
  },
  {
   "cell_type": "code",
   "execution_count": null,
   "id": "df212bce-7c67-4bf2-a530-cff201d1881e",
   "metadata": {},
   "outputs": [],
   "source": [
    "ds=DrawSin(1,1,0,4) #이제 위의 self는 ds로 대체된다고 보면된다\n",
    "ds.draw_sin() #즉 윗줄의 ds를 실행한 순간 던더init만 실행되고\n",
    "#내가 다시 draw_sin을 호출하면 draw_sin안에 있는 calc_sin을 실행하여 sin을 만들고 그리기까지 하는거"
   ]
  },
  {
   "cell_type": "markdown",
   "id": "9fe2fbbc-3888-425a-a839-2bd46682da06",
   "metadata": {},
   "source": [
    "## 상속"
   ]
  },
  {
   "cell_type": "markdown",
   "id": "60f7cc32-e84c-49ae-8400-2140924efdf4",
   "metadata": {},
   "source": [
    "**이번엔 cos함수를 그려볼껀데 아까 DrawSin에서 몇개는 중복되므로 상속시켜주자**"
   ]
  },
  {
   "cell_type": "markdown",
   "id": "d023a02b-372c-4de6-bccc-b2d4b2953479",
   "metadata": {},
   "source": [
    "**상속을 이용하게 되면 맨 처음 self대신 DrawSin을 받아주도록하면 된다\\\n",
    "그러면 겹치는 부분인 던더init부분은 위에서 한대로 받아줄수있으니까\\\n",
    "하지만 그외의 부분은 여전히 self로 받아준다는 점**"
   ]
  },
  {
   "cell_type": "code",
   "execution_count": null,
   "id": "2fb87b2a-e0d8-4c76-8743-55da999c7196",
   "metadata": {},
   "outputs": [],
   "source": [
    "class DrawSinusoidal(DrawSin):\n",
    "    def calc_cos(self):\n",
    "        self.t = np.arange(0,self.end_time,0.01)\n",
    "        return self.amp*np.cos(2*np.pi*self.freq*self.t) +self.bias\n",
    "    def draw_cos(self):\n",
    "        y = self.calc_cos()\n",
    "        plt.figure(figsize=(12,6))\n",
    "        plt.plot(self.t,y)\n",
    "        plt.grid()\n",
    "        plt.show()"
   ]
  },
  {
   "cell_type": "code",
   "execution_count": null,
   "id": "456a2499-4509-47c5-a373-8fccc9221897",
   "metadata": {},
   "outputs": [],
   "source": [
    "dc=DrawSinusoidal(1,1,0,3)\n",
    "dc.__dict__"
   ]
  },
  {
   "cell_type": "markdown",
   "id": "ec0e3d1d-8ce3-43a4-bcc8-7aa0055be7f9",
   "metadata": {},
   "source": [
    "**던더dict는 던더init에서 사용한 속성들을 보여준다\\\n",
    "우리가 sin을 그릴때 endtime을 4로 했는데 3으로 바뀐것을 볼 수있다**"
   ]
  },
  {
   "cell_type": "code",
   "execution_count": null,
   "id": "534fd425-9ccc-4731-b2f6-42fdbbd754b5",
   "metadata": {},
   "outputs": [],
   "source": [
    "ds.__dict__"
   ]
  },
  {
   "cell_type": "markdown",
   "id": "e7f4e280-0244-468f-a190-07a91d6e7032",
   "metadata": {},
   "source": [
    "**보라, 여전히 ds는 4이다. 근데 t는 왜보여주는거지?\\\n",
    "참고로 던더 속성은 마지막줄만 작동한다. 한줄씩 확인하자**"
   ]
  },
  {
   "cell_type": "code",
   "execution_count": null,
   "id": "352481e6-8304-4ca9-b6f5-45a5efcf861a",
   "metadata": {},
   "outputs": [],
   "source": [
    "dc.__dir__()"
   ]
  },
  {
   "cell_type": "markdown",
   "id": "25ccf52d-677a-4899-b7d9-10a1c13a72ff",
   "metadata": {},
   "source": [
    "**던더dir은 해당객체화에 있는 함수 변수를 모두 보여준다\\\n",
    "상속받은 amp,freq,bias,end_time이 보이는가?**"
   ]
  },
  {
   "cell_type": "code",
   "execution_count": null,
   "id": "8871b089-e282-4894-a6bb-2a025b7e7f6f",
   "metadata": {},
   "outputs": [],
   "source": [
    "dc.draw_cos()"
   ]
  },
  {
   "cell_type": "markdown",
   "id": "5229c7c4-ee73-4125-b6f1-05b5eee81506",
   "metadata": {},
   "source": [
    "## 오버라이드"
   ]
  },
  {
   "cell_type": "code",
   "execution_count": null,
   "id": "12d6f050-7c61-4937-adcb-4d8857876e9a",
   "metadata": {},
   "outputs": [],
   "source": [
    "class DrawSinusodial2(DrawSinusoidal):\n",
    "    def draw_sin(self):\n",
    "        y = self.calc_sin()\n",
    "        plt.figure(figsize=(12,6))\n",
    "        plt.plot(self.t,y)\n",
    "        plt.title('Sin Graph')\n",
    "        plt.ylabel('Sin')\n",
    "        plt.xlabel('time (sec)')\n",
    "        plt.grid()\n",
    "        plt.show()"
   ]
  },
  {
   "cell_type": "markdown",
   "id": "95db6c64-b33e-4443-b49e-8d02e9ea4077",
   "metadata": {},
   "source": [
    "**이게 상속과 다른 점은 아예 이름이 같은 함수 draw_sin 을 다시정의했다는 것이다. 그래서 오버라이드이다**"
   ]
  },
  {
   "cell_type": "code",
   "execution_count": null,
   "id": "19765733-b82e-4dc3-8896-31b027333e83",
   "metadata": {},
   "outputs": [],
   "source": [
    "ds2 = DrawSinusodial2(1,1,0,3)\n",
    "ds2.draw_sin()"
   ]
  },
  {
   "cell_type": "markdown",
   "id": "42c3f083-8b66-4097-8338-e294f1652cd3",
   "metadata": {},
   "source": [
    "## 수퍼"
   ]
  },
  {
   "cell_type": "markdown",
   "id": "c0c802aa-3e76-40df-a02c-54c139351bee",
   "metadata": {},
   "source": [
    "**이번엔 독립변수 t사이의 간격도 변수로 지정해주고 싶다. ts로 지정해주겠다\\\n",
    "이때 그냥 init하고 오버라이드하면 기존의 amp~end_time 변수는 날아가버린다..\\\n",
    "그래서 super()를 이용해 기존의 변수도 받아와줘야한다**"
   ]
  },
  {
   "cell_type": "code",
   "execution_count": null,
   "id": "69f6d465-9918-43f2-b8bf-c8c3b191c587",
   "metadata": {},
   "outputs": [],
   "source": [
    "class DrawSinusodial3(DrawSinusodial2):\n",
    "    def __init__(self,amp,freq,bias,end_time,ts):\n",
    "        super().__init__(amp,freq,bias,end_time)\n",
    "        self.ts = ts"
   ]
  },
  {
   "cell_type": "code",
   "execution_count": null,
   "id": "7d14cd71-0d83-47ad-931d-0287bb4e6ba8",
   "metadata": {},
   "outputs": [],
   "source": [
    "ds3 = DrawSinusodial3(1,1,0,3,0.01)\n",
    "ds3.__dict__"
   ]
  },
  {
   "cell_type": "markdown",
   "id": "25c593d6-67e4-4eaa-8487-18bc994f154e",
   "metadata": {},
   "source": [
    "**amp부터 ts까지 잘 받아왔다**"
   ]
  },
  {
   "cell_type": "code",
   "execution_count": null,
   "id": "361844e4-a806-444b-910a-96777aca3007",
   "metadata": {},
   "outputs": [],
   "source": [
    "class DrawSinusodial3(DrawSinusodial2):\n",
    "    def __init__(self,amp,freq,bias,end_time,ts):\n",
    "        super().__init__(amp,freq,bias,end_time)\n",
    "        self.ts = ts\n",
    "    def calc_sin(self):\n",
    "        self.t = np.arange(0,self.end_time,self.ts)\n",
    "        return self.amp*np.sin(2*np.pi*self.freq*self.t) +self.bias\n",
    "    def draw_sin(self):\n",
    "        y = self.calc_sin()\n",
    "        plt.figure(figsize=(12,6))\n",
    "        plt.plot(self.t,y)\n",
    "        plt.title('Sin Graph')\n",
    "        plt.ylabel('Sin')\n",
    "        plt.xlabel('time (sec)')\n",
    "        plt.grid()\n",
    "        plt.show()  "
   ]
  },
  {
   "cell_type": "code",
   "execution_count": null,
   "id": "0f4c5cb1-0e06-43ab-a5a5-16e8112cd1e2",
   "metadata": {},
   "outputs": [],
   "source": [
    "ds3 = DrawSinusodial3(1,1,0,3,0.1)\n",
    "ds3.draw_sin()"
   ]
  },
  {
   "cell_type": "markdown",
   "id": "068d4565-10b6-49aa-a11d-e6e33f4a2194",
   "metadata": {},
   "source": [
    "**간격이 0.1인 sin그래프 완성**"
   ]
  },
  {
   "cell_type": "code",
   "execution_count": null,
   "id": "17793086-45f2-4c4f-a42b-e3602b1d70f8",
   "metadata": {},
   "outputs": [],
   "source": []
  }
 ],
 "metadata": {
  "kernelspec": {
   "display_name": "Python 3 (ipykernel)",
   "language": "python",
   "name": "python3"
  },
  "language_info": {
   "codemirror_mode": {
    "name": "ipython",
    "version": 3
   },
   "file_extension": ".py",
   "mimetype": "text/x-python",
   "name": "python",
   "nbconvert_exporter": "python",
   "pygments_lexer": "ipython3",
   "version": "3.8.10"
  }
 },
 "nbformat": 4,
 "nbformat_minor": 5
}

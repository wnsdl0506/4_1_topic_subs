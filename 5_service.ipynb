{
 "cells": [
  {
   "cell_type": "code",
   "execution_count": null,
   "id": "04f7a6e2-66ba-4fa9-ad48-c0297d8f575a",
   "metadata": {},
   "outputs": [],
   "source": [
    "import rclpy as rp\n",
    "from turtlesim.srv import TeleportAbsolute\n",
    "\n",
    "rp.init()\n",
    "test_node = rp.create_node('client_test')"
   ]
  },
  {
   "cell_type": "code",
   "execution_count": null,
   "id": "c3b833e5-7a6c-42b5-ae31-bb0dc6bf423d",
   "metadata": {},
   "outputs": [],
   "source": [
    "cli = test_node.create_client(TeleportAbsolute,'/turtle1/teleport_absolute')"
   ]
  },
  {
   "cell_type": "markdown",
   "id": "8566159f-dfe2-4a11-9841-46ca0a2a6322",
   "metadata": {},
   "source": [
    "**test_node.create_client(서비스데이터타입,'서비스이름')**"
   ]
  },
  {
   "cell_type": "code",
   "execution_count": null,
   "id": "4c0f1f33-8464-46a9-8636-a00417d84d5a",
   "metadata": {},
   "outputs": [],
   "source": [
    "req = TeleportAbsolute.Request()\n",
    "req"
   ]
  },
  {
   "cell_type": "markdown",
   "id": "8cba98d4-26da-47a6-9f68-dd6709e7a3e8",
   "metadata": {},
   "source": [
    "**여기서 req는 이 서비스의 '정의'부분이다.\\\n",
    "그리고 절대위치정보가 이 서비스의 정의이다(teleport_absolute)**"
   ]
  },
  {
   "cell_type": "code",
   "execution_count": null,
   "id": "53542796-18b8-42d4-9ab4-3ab05d5fdae6",
   "metadata": {},
   "outputs": [],
   "source": [
    "req.x = 5.45\n",
    "req.y = 5.45\n",
    "req.theta = 3.\n",
    "\n",
    "req"
   ]
  },
  {
   "cell_type": "markdown",
   "id": "6ab61f35-d22c-41fb-8671-ed4b2fa818a5",
   "metadata": {},
   "source": [
    "**float타입인 1.0 또는 1. 또는 float(1)을 써야한다\\\n",
    "그리고 이것 자체는 request한 것이 아니라 편지를 쓴것이라고 보면 된다\\\n",
    "이제 call_async 함수로 request할 일만 남았다**"
   ]
  },
  {
   "cell_type": "code",
   "execution_count": null,
   "id": "16b79b83-0908-4de7-bb55-2f94acf069ec",
   "metadata": {},
   "outputs": [],
   "source": [
    "cli.call_async(req)\n",
    "##rp.spin_once(test_node)"
   ]
  },
  {
   "cell_type": "markdown",
   "id": "37ac47b6-27cf-41d0-a328-6d023b448792",
   "metadata": {},
   "source": [
    "**드디어 거북이가 이동했다! 원점은 5.455, 5.455, 0.0 이다**"
   ]
  },
  {
   "cell_type": "code",
   "execution_count": null,
   "id": "a809c473-106e-464c-8d08-cdaf17c8c87b",
   "metadata": {},
   "outputs": [],
   "source": [
    "cli.wait_for_service(timeout_sec=1.0)"
   ]
  },
  {
   "cell_type": "markdown",
   "id": "809118cc-72ce-45df-8037-54da884ba8be",
   "metadata": {},
   "source": [
    "**이 함수는 서비스가 실행되지않을때 false를 반환한다\\\n",
    "timeout sec 는 서비스가 실행될때까지 기다릴 시간을 의미한다\\\n",
    "주로 여러개의 노드에서 서비스를 요청할때 사용한다**"
   ]
  },
  {
   "cell_type": "code",
   "execution_count": null,
   "id": "631a3fa7-d5ce-4e89-bf3d-df122063d24c",
   "metadata": {},
   "outputs": [],
   "source": [
    "req.x = 5.455\n",
    "req.y = 5.455\n",
    "req.theta = 0.0\n",
    "\n",
    "future = cli.call_async(req)\n",
    "while not future.done():\n",
    "    rp.spin_once(test_node)\n",
    "    print(future.done(),future.result())"
   ]
  },
  {
   "cell_type": "markdown",
   "id": "558269f9-6758-4c0a-8a49-2b3bb50e27fc",
   "metadata": {},
   "source": [
    "**future.done이 트루가 될 때까지 즉 false인 동안 반복한다\\\n",
    "무엇을 반복하냐? rp.spin_once(test_node) 노드를 만드는 함수인데, 이걸 왜 반복하는진 잘 모르겠지만\\\n",
    "이거 빼면 텔레포트가 작동 안한다. 그런데 웃긴건, 그냥 cli.call_async(req)로 요청하면 rp머시기 안해도됨\\\n",
    "future.done이 트루가된다는 것은 서비스가 잘 실행되었다는 뜻이고,\\\n",
    "future.result는 해당 서비스의 response를 반환한다,\\\n",
    "이 경우엔 response가 따로 없는 서비스다 보니까 그냥 서비스이름_Response()를 성의없게 반환했다**"
   ]
  },
  {
   "cell_type": "code",
   "execution_count": null,
   "id": "ad2e6be9-6148-49b8-b480-f0987b4af4e2",
   "metadata": {},
   "outputs": [],
   "source": []
  }
 ],
 "metadata": {
  "kernelspec": {
   "display_name": "Python 3 (ipykernel)",
   "language": "python",
   "name": "python3"
  },
  "language_info": {
   "codemirror_mode": {
    "name": "ipython",
    "version": 3
   },
   "file_extension": ".py",
   "mimetype": "text/x-python",
   "name": "python",
   "nbconvert_exporter": "python",
   "pygments_lexer": "ipython3",
   "version": "3.8.10"
  }
 },
 "nbformat": 4,
 "nbformat_minor": 5
}
